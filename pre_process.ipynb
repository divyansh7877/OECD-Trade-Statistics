{
 "cells": [
  {
   "cell_type": "code",
   "execution_count": null,
   "metadata": {},
   "outputs": [],
   "source": [
    "import matplotlib.pyplot as plt\n",
    "import pandas as pd\n",
    "import geopandas as gpd\n",
    "import contextily as cx\n",
    "from shapely import wkt"
   ]
  },
  {
   "cell_type": "code",
   "execution_count": 5,
   "metadata": {},
   "outputs": [
    {
     "data": {
      "text/html": [
       "<div>\n",
       "<style scoped>\n",
       "    .dataframe tbody tr th:only-of-type {\n",
       "        vertical-align: middle;\n",
       "    }\n",
       "\n",
       "    .dataframe tbody tr th {\n",
       "        vertical-align: top;\n",
       "    }\n",
       "\n",
       "    .dataframe thead th {\n",
       "        text-align: right;\n",
       "    }\n",
       "</style>\n",
       "<table border=\"1\" class=\"dataframe\">\n",
       "  <thead>\n",
       "    <tr style=\"text-align: right;\">\n",
       "      <th></th>\n",
       "      <th>LOCATION</th>\n",
       "      <th>Reporter country</th>\n",
       "      <th>FLOW</th>\n",
       "      <th>Flow</th>\n",
       "      <th>PARTNER</th>\n",
       "      <th>Partner country</th>\n",
       "      <th>FREQUENCY</th>\n",
       "      <th>Frequency</th>\n",
       "      <th>TIME</th>\n",
       "      <th>Time</th>\n",
       "      <th>Unit Code</th>\n",
       "      <th>Unit</th>\n",
       "      <th>PowerCode Code</th>\n",
       "      <th>PowerCode</th>\n",
       "      <th>Reference Period Code</th>\n",
       "      <th>Reference Period</th>\n",
       "      <th>Value</th>\n",
       "      <th>Flag Codes</th>\n",
       "      <th>Flags</th>\n",
       "    </tr>\n",
       "  </thead>\n",
       "  <tbody>\n",
       "    <tr>\n",
       "      <th>0</th>\n",
       "      <td>AUS</td>\n",
       "      <td>Australia</td>\n",
       "      <td>EXP</td>\n",
       "      <td>Exports</td>\n",
       "      <td>AUT</td>\n",
       "      <td>Austria</td>\n",
       "      <td>A</td>\n",
       "      <td>Annual</td>\n",
       "      <td>2010</td>\n",
       "      <td>2010</td>\n",
       "      <td>USD</td>\n",
       "      <td>US Dollar</td>\n",
       "      <td>0</td>\n",
       "      <td>Units</td>\n",
       "      <td>NaN</td>\n",
       "      <td>NaN</td>\n",
       "      <td>62852134</td>\n",
       "      <td>NaN</td>\n",
       "      <td>NaN</td>\n",
       "    </tr>\n",
       "    <tr>\n",
       "      <th>1</th>\n",
       "      <td>AUS</td>\n",
       "      <td>Australia</td>\n",
       "      <td>EXP</td>\n",
       "      <td>Exports</td>\n",
       "      <td>AUT</td>\n",
       "      <td>Austria</td>\n",
       "      <td>A</td>\n",
       "      <td>Annual</td>\n",
       "      <td>2011</td>\n",
       "      <td>2011</td>\n",
       "      <td>USD</td>\n",
       "      <td>US Dollar</td>\n",
       "      <td>0</td>\n",
       "      <td>Units</td>\n",
       "      <td>NaN</td>\n",
       "      <td>NaN</td>\n",
       "      <td>73144918</td>\n",
       "      <td>NaN</td>\n",
       "      <td>NaN</td>\n",
       "    </tr>\n",
       "    <tr>\n",
       "      <th>2</th>\n",
       "      <td>AUS</td>\n",
       "      <td>Australia</td>\n",
       "      <td>EXP</td>\n",
       "      <td>Exports</td>\n",
       "      <td>AUT</td>\n",
       "      <td>Austria</td>\n",
       "      <td>A</td>\n",
       "      <td>Annual</td>\n",
       "      <td>2012</td>\n",
       "      <td>2012</td>\n",
       "      <td>USD</td>\n",
       "      <td>US Dollar</td>\n",
       "      <td>0</td>\n",
       "      <td>Units</td>\n",
       "      <td>NaN</td>\n",
       "      <td>NaN</td>\n",
       "      <td>71483059</td>\n",
       "      <td>NaN</td>\n",
       "      <td>NaN</td>\n",
       "    </tr>\n",
       "    <tr>\n",
       "      <th>3</th>\n",
       "      <td>AUS</td>\n",
       "      <td>Australia</td>\n",
       "      <td>EXP</td>\n",
       "      <td>Exports</td>\n",
       "      <td>AUT</td>\n",
       "      <td>Austria</td>\n",
       "      <td>A</td>\n",
       "      <td>Annual</td>\n",
       "      <td>2013</td>\n",
       "      <td>2013</td>\n",
       "      <td>USD</td>\n",
       "      <td>US Dollar</td>\n",
       "      <td>0</td>\n",
       "      <td>Units</td>\n",
       "      <td>NaN</td>\n",
       "      <td>NaN</td>\n",
       "      <td>67897422</td>\n",
       "      <td>NaN</td>\n",
       "      <td>NaN</td>\n",
       "    </tr>\n",
       "    <tr>\n",
       "      <th>4</th>\n",
       "      <td>AUS</td>\n",
       "      <td>Australia</td>\n",
       "      <td>EXP</td>\n",
       "      <td>Exports</td>\n",
       "      <td>AUT</td>\n",
       "      <td>Austria</td>\n",
       "      <td>A</td>\n",
       "      <td>Annual</td>\n",
       "      <td>2014</td>\n",
       "      <td>2014</td>\n",
       "      <td>USD</td>\n",
       "      <td>US Dollar</td>\n",
       "      <td>0</td>\n",
       "      <td>Units</td>\n",
       "      <td>NaN</td>\n",
       "      <td>NaN</td>\n",
       "      <td>61114752</td>\n",
       "      <td>NaN</td>\n",
       "      <td>NaN</td>\n",
       "    </tr>\n",
       "  </tbody>\n",
       "</table>\n",
       "</div>"
      ],
      "text/plain": [
       "  LOCATION Reporter country FLOW     Flow PARTNER Partner country FREQUENCY  \\\n",
       "0      AUS        Australia  EXP  Exports     AUT         Austria         A   \n",
       "1      AUS        Australia  EXP  Exports     AUT         Austria         A   \n",
       "2      AUS        Australia  EXP  Exports     AUT         Austria         A   \n",
       "3      AUS        Australia  EXP  Exports     AUT         Austria         A   \n",
       "4      AUS        Australia  EXP  Exports     AUT         Austria         A   \n",
       "\n",
       "  Frequency  TIME  Time Unit Code       Unit  PowerCode Code PowerCode  \\\n",
       "0    Annual  2010  2010       USD  US Dollar               0     Units   \n",
       "1    Annual  2011  2011       USD  US Dollar               0     Units   \n",
       "2    Annual  2012  2012       USD  US Dollar               0     Units   \n",
       "3    Annual  2013  2013       USD  US Dollar               0     Units   \n",
       "4    Annual  2014  2014       USD  US Dollar               0     Units   \n",
       "\n",
       "   Reference Period Code  Reference Period     Value  Flag Codes  Flags  \n",
       "0                    NaN               NaN  62852134         NaN    NaN  \n",
       "1                    NaN               NaN  73144918         NaN    NaN  \n",
       "2                    NaN               NaN  71483059         NaN    NaN  \n",
       "3                    NaN               NaN  67897422         NaN    NaN  \n",
       "4                    NaN               NaN  61114752         NaN    NaN  "
      ]
     },
     "execution_count": 5,
     "metadata": {},
     "output_type": "execute_result"
    }
   ],
   "source": [
    "filepath=r'Datasets for IV\\60dde6d7-en\\QITS-2023-1-EN-20240216T090213.csv'\n",
    "df=pd.read_csv(filepath)\n",
    "df.head()"
   ]
  },
  {
   "cell_type": "code",
   "execution_count": 6,
   "metadata": {},
   "outputs": [
    {
     "name": "stdout",
     "output_type": "stream",
     "text": [
      "<class 'pandas.core.frame.DataFrame'>\n",
      "RangeIndex: 261252 entries, 0 to 261251\n",
      "Data columns (total 19 columns):\n",
      " #   Column                 Non-Null Count   Dtype  \n",
      "---  ------                 --------------   -----  \n",
      " 0   LOCATION               261252 non-null  object \n",
      " 1   Reporter country       261252 non-null  object \n",
      " 2   FLOW                   261252 non-null  object \n",
      " 3   Flow                   261252 non-null  object \n",
      " 4   PARTNER                261252 non-null  object \n",
      " 5   Partner country        261252 non-null  object \n",
      " 6   FREQUENCY              261252 non-null  object \n",
      " 7   Frequency              261252 non-null  object \n",
      " 8   TIME                   261252 non-null  object \n",
      " 9   Time                   261252 non-null  object \n",
      " 10  Unit Code              261252 non-null  object \n",
      " 11  Unit                   261252 non-null  object \n",
      " 12  PowerCode Code         261252 non-null  int64  \n",
      " 13  PowerCode              261252 non-null  object \n",
      " 14  Reference Period Code  0 non-null       float64\n",
      " 15  Reference Period       0 non-null       float64\n",
      " 16  Value                  261252 non-null  int64  \n",
      " 17  Flag Codes             0 non-null       float64\n",
      " 18  Flags                  0 non-null       float64\n",
      "dtypes: float64(4), int64(2), object(13)\n",
      "memory usage: 37.9+ MB\n"
     ]
    }
   ],
   "source": [
    "df.info()"
   ]
  },
  {
   "cell_type": "code",
   "execution_count": 7,
   "metadata": {},
   "outputs": [
    {
     "data": {
      "text/plain": [
       "LOCATION                      0\n",
       "Reporter country              0\n",
       "FLOW                          0\n",
       "Flow                          0\n",
       "PARTNER                       0\n",
       "Partner country               0\n",
       "FREQUENCY                     0\n",
       "Frequency                     0\n",
       "TIME                          0\n",
       "Time                          0\n",
       "Unit Code                     0\n",
       "Unit                          0\n",
       "PowerCode Code                0\n",
       "PowerCode                     0\n",
       "Reference Period Code    261252\n",
       "Reference Period         261252\n",
       "Value                         0\n",
       "Flag Codes               261252\n",
       "Flags                    261252\n",
       "dtype: int64"
      ]
     },
     "execution_count": 7,
     "metadata": {},
     "output_type": "execute_result"
    }
   ],
   "source": [
    "df.isna().sum()"
   ]
  },
  {
   "cell_type": "code",
   "execution_count": null,
   "metadata": {},
   "outputs": [],
   "source": []
  },
  {
   "cell_type": "code",
   "execution_count": null,
   "metadata": {},
   "outputs": [],
   "source": []
  },
  {
   "cell_type": "code",
   "execution_count": null,
   "metadata": {},
   "outputs": [],
   "source": []
  },
  {
   "cell_type": "code",
   "execution_count": null,
   "metadata": {},
   "outputs": [],
   "source": []
  },
  {
   "cell_type": "code",
   "execution_count": null,
   "metadata": {},
   "outputs": [],
   "source": []
  },
  {
   "cell_type": "code",
   "execution_count": null,
   "metadata": {},
   "outputs": [],
   "source": []
  },
  {
   "cell_type": "code",
   "execution_count": null,
   "metadata": {},
   "outputs": [],
   "source": [
    "df['geometry'] = df['the_geom'].apply(wkt.loads)\n",
    "gdf = gpd.GeoDataFrame(df, crs='epsg:4326')"
   ]
  },
  {
   "cell_type": "code",
   "execution_count": null,
   "metadata": {},
   "outputs": [],
   "source": [
    "gdf.head()"
   ]
  },
  {
   "cell_type": "code",
   "execution_count": null,
   "metadata": {},
   "outputs": [],
   "source": [
    "gdf.info()"
   ]
  },
  {
   "cell_type": "code",
   "execution_count": null,
   "metadata": {},
   "outputs": [],
   "source": [
    "#my_geo_df=my_geo_df.set_crs(epsg=4326)"
   ]
  },
  {
   "cell_type": "code",
   "execution_count": null,
   "metadata": {},
   "outputs": [],
   "source": [
    "print(gdf.crs)"
   ]
  },
  {
   "cell_type": "code",
   "execution_count": null,
   "metadata": {},
   "outputs": [],
   "source": [
    "my_mod_geo_df=gdf.to_crs('EPSG:3857')"
   ]
  },
  {
   "cell_type": "code",
   "execution_count": null,
   "metadata": {},
   "outputs": [],
   "source": [
    "my_mod_geo_df.crs"
   ]
  },
  {
   "cell_type": "code",
   "execution_count": null,
   "metadata": {},
   "outputs": [],
   "source": [
    "ax=my_mod_geo_df.plot(figsize=(16,16),alpha=0.5, edgecolor=\"k\",column='Borough',legend=True)\n",
    "cx.add_basemap(ax,crs=my_mod_geo_df.crs,zoom=12,source=cx.providers.OpenStreetMap.Mapnik)"
   ]
  },
  {
   "cell_type": "markdown",
   "metadata": {},
   "source": [
    "### References:\n",
    "- https://geopandas.org/en/stable/gallery/plotting_basemap_background.html"
   ]
  }
 ],
 "metadata": {
  "kernelspec": {
   "display_name": "base",
   "language": "python",
   "name": "python3"
  },
  "language_info": {
   "codemirror_mode": {
    "name": "ipython",
    "version": 3
   },
   "file_extension": ".py",
   "mimetype": "text/x-python",
   "name": "python",
   "nbconvert_exporter": "python",
   "pygments_lexer": "ipython3",
   "version": "3.11.3"
  }
 },
 "nbformat": 4,
 "nbformat_minor": 2
}
